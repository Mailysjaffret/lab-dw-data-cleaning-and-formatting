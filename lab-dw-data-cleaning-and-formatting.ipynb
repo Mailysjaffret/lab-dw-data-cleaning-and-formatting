{
 "cells": [
  {
   "cell_type": "markdown",
   "id": "25d7736c-ba17-4aff-b6bb-66eba20fbf4e",
   "metadata": {
    "id": "25d7736c-ba17-4aff-b6bb-66eba20fbf4e"
   },
   "source": [
    "# Lab | Data Cleaning and Formatting"
   ]
  },
  {
   "cell_type": "markdown",
   "id": "d1973e9e-8be6-4039-b70e-d73ee0d94c99",
   "metadata": {
    "id": "d1973e9e-8be6-4039-b70e-d73ee0d94c99"
   },
   "source": [
    "In this lab, we will be working with the customer data from an insurance company, which can be found in the CSV file located at the following link: https://raw.githubusercontent.com/data-bootcamp-v4/data/main/file1.csv\n"
   ]
  },
  {
   "cell_type": "markdown",
   "id": "31b8a9e7-7db9-4604-991b-ef6771603e57",
   "metadata": {
    "id": "31b8a9e7-7db9-4604-991b-ef6771603e57"
   },
   "source": [
    "# Challenge 1: Data Cleaning and Formatting"
   ]
  },
  {
   "cell_type": "markdown",
   "id": "81553f19-9f2c-484b-8940-520aff884022",
   "metadata": {
    "id": "81553f19-9f2c-484b-8940-520aff884022"
   },
   "source": [
    "## Exercise 1: Cleaning Column Names"
   ]
  },
  {
   "cell_type": "markdown",
   "id": "34a929f4-1be4-4fa8-adda-42ffd920be90",
   "metadata": {
    "id": "34a929f4-1be4-4fa8-adda-42ffd920be90"
   },
   "source": [
    "To ensure consistency and ease of use, standardize the column names of the dataframe. Start by taking a first look at the dataframe and identifying any column names that need to be modified. Use appropriate naming conventions and make sure that column names are descriptive and informative.\n",
    "\n",
    "*Hint*:\n",
    "- *Column names should be in lower case*\n",
    "- *White spaces in column names should be replaced by `_`*\n",
    "- *`st` could be replaced for `state`*"
   ]
  },
  {
   "cell_type": "code",
   "execution_count": 15,
   "id": "5810735c-8056-4442-bbf2-dda38d3e284a",
   "metadata": {
    "id": "5810735c-8056-4442-bbf2-dda38d3e284a"
   },
   "outputs": [
    {
     "data": {
      "text/plain": [
       "Index(['Customer', 'ST', 'GENDER', 'Education', 'Customer Lifetime Value',\n",
       "       'Income', 'Monthly Premium Auto', 'Number of Open Complaints',\n",
       "       'Policy Type', 'Vehicle Class', 'Total Claim Amount'],\n",
       "      dtype='object')"
      ]
     },
     "execution_count": 15,
     "metadata": {},
     "output_type": "execute_result"
    }
   ],
   "source": [
    "import pandas as pd\n",
    "insurance_df = pd.read_csv(\"https://raw.githubusercontent.com/data-bootcamp-v4/data/main/file1.csv\")\n",
    "insurance_df.columns"
   ]
  },
  {
   "cell_type": "code",
   "execution_count": 17,
   "id": "5fc6a525-cc3b-4fa5-ba7a-7e0f7b672824",
   "metadata": {},
   "outputs": [
    {
     "name": "stdout",
     "output_type": "stream",
     "text": [
      "Index(['custateomer', 'state', 'gender', 'education',\n",
      "       'custateomer_lifetime_value', 'income', 'monthly_premium_auto',\n",
      "       'number_of_open_complaints', 'policy_type', 'vehicle_class',\n",
      "       'total_claim_amount'],\n",
      "      dtype='object')\n"
     ]
    }
   ],
   "source": [
    "insurance_df.columns = (\n",
    "    insurance_df.columns\n",
    "    .str.lower()\n",
    "    .str.replace(' ', '_')\n",
    "    .str.replace('st', 'state')\n",
    ")\n",
    "\n",
    "print(insurance_df.columns)"
   ]
  },
  {
   "cell_type": "code",
   "execution_count": 37,
   "id": "7264ce24-2fa2-4a6e-b4c7-4b437b500e77",
   "metadata": {},
   "outputs": [
    {
     "data": {
      "text/plain": [
       "Index(['customer', 'state', 'gender', 'education', 'customer_lifetime_value',\n",
       "       'income', 'monthly_premium_auto', 'number_of_open_complaints',\n",
       "       'policy_type', 'vehicule_class', 'total_claim_amount'],\n",
       "      dtype='object')"
      ]
     },
     "execution_count": 37,
     "metadata": {},
     "output_type": "execute_result"
    }
   ],
   "source": [
    "insurance_df.columns = (\n",
    "    insurance_df.columns\n",
    "    .str.replace('custateomer', 'customer')\n",
    "    .str.replace('custateomer_lifetime_value', 'customer_lifetime_value')\n",
    "    .str.replace('vehicle_class', 'vehicule_class')\n",
    ")\n",
    "\n",
    "insurance_df.columns"
   ]
  },
  {
   "cell_type": "markdown",
   "id": "9cb501ec-36ff-4589-b872-6252bb150316",
   "metadata": {
    "id": "9cb501ec-36ff-4589-b872-6252bb150316"
   },
   "source": [
    "## Exercise 2: Cleaning invalid Values"
   ]
  },
  {
   "cell_type": "markdown",
   "id": "771fdcf3-8e20-4b06-9c24-3a93ba2b0909",
   "metadata": {
    "id": "771fdcf3-8e20-4b06-9c24-3a93ba2b0909"
   },
   "source": [
    "The dataset contains columns with inconsistent and incorrect values that could affect the accuracy of our analysis. Therefore, we need to clean these columns to ensure that they only contain valid data.\n",
    "\n",
    "Note that this exercise will focus only on cleaning inconsistent values and will not involve handling null values (NaN or None).\n",
    "\n",
    "*Hint*:\n",
    "- *Gender column contains various inconsistent values such as \"F\", \"M\", \"Femal\", \"Male\", \"female\", which need to be standardized, for example, to \"M\" and \"F\".*\n",
    "- *State abbreviations be can replaced with its full name, for example \"AZ\": \"Arizona\", \"Cali\": \"California\", \"WA\": \"Washington\"*\n",
    "- *In education, \"Bachelors\" could be replaced by \"Bachelor\"*\n",
    "- *In Customer Lifetime Value, delete the `%` character*\n",
    "- *In vehicle class, \"Sports Car\", \"Luxury SUV\" and \"Luxury Car\" could be replaced by \"Luxury\"*"
   ]
  },
  {
   "cell_type": "code",
   "execution_count": 95,
   "id": "3f8ee5cb-50ab-48af-8a9f-9a389804033c",
   "metadata": {
    "id": "3f8ee5cb-50ab-48af-8a9f-9a389804033c"
   },
   "outputs": [
    {
     "data": {
      "text/plain": [
       "array([nan, 'F', 'M'], dtype=object)"
      ]
     },
     "execution_count": 95,
     "metadata": {},
     "output_type": "execute_result"
    }
   ],
   "source": [
    "insurance_df['gender'] = insurance_df['gender'].str.strip().str.lower().replace({\n",
    "    'femal': 'female',\n",
    "    'female': 'F',\n",
    "    'f': 'F',\n",
    "    'male': 'M',\n",
    "    'm': 'M'\n",
    "})\n",
    "\n",
    "insurance_df['gender'].unique()"
   ]
  },
  {
   "cell_type": "code",
   "execution_count": 93,
   "id": "482a421e-bd0c-468e-bb70-bf32b26efade",
   "metadata": {},
   "outputs": [
    {
     "data": {
      "text/plain": [
       "array(['Washington', 'Arizona', 'Nevada', 'California', 'Oregon', nan],\n",
       "      dtype=object)"
      ]
     },
     "execution_count": 93,
     "metadata": {},
     "output_type": "execute_result"
    }
   ],
   "source": [
    "insurance_df['state'] = insurance_df['state'].replace({\n",
    "    'AZ': 'Arizona',\n",
    "    'Cali': 'California',\n",
    "    'WA': 'Washington'\n",
    "})\n",
    "\n",
    "insurance_df['state'].unique()"
   ]
  },
  {
   "cell_type": "code",
   "execution_count": 91,
   "id": "88e074c6-4236-453e-a272-c9989ae6a3e3",
   "metadata": {},
   "outputs": [
    {
     "data": {
      "text/plain": [
       "array(['Master', 'Bachelor', 'High School or Below', 'College', 'Doctor',\n",
       "       nan], dtype=object)"
      ]
     },
     "execution_count": 91,
     "metadata": {},
     "output_type": "execute_result"
    }
   ],
   "source": [
    "insurance_df['education'] = insurance_df['education'].str.strip().replace({\n",
    "    'Bachelors': 'Bachelor'\n",
    "})\n",
    "\n",
    "insurance_df['education'].unique()"
   ]
  },
  {
   "cell_type": "code",
   "execution_count": 89,
   "id": "81387ab7-081d-4dc1-b28b-114a930a526d",
   "metadata": {},
   "outputs": [
    {
     "data": {
      "text/plain": [
       "array([       nan,  697953.59, 1288743.17, ..., 2031499.76,  323912.47,\n",
       "        899704.02])"
      ]
     },
     "execution_count": 89,
     "metadata": {},
     "output_type": "execute_result"
    }
   ],
   "source": [
    "insurance_df['customer_lifetime_value'] = (\n",
    "    insurance_df['customer_lifetime_value']\n",
    "    .astype(str)\n",
    "    .str.replace('%', '')\n",
    "    .astype(float)\n",
    ")\n",
    "\n",
    "insurance_df['customer_lifetime_value'].unique()"
   ]
  },
  {
   "cell_type": "code",
   "execution_count": 83,
   "id": "30dbf5d1-f442-4aa1-a36c-98eb11812b55",
   "metadata": {},
   "outputs": [
    {
     "data": {
      "text/plain": [
       "array(['Four-Door Car', 'Two-Door Car', 'SUV', 'Luxury', nan],\n",
       "      dtype=object)"
      ]
     },
     "execution_count": 83,
     "metadata": {},
     "output_type": "execute_result"
    }
   ],
   "source": [
    "insurance_df['vehicule_class'] = insurance_df['vehicule_class'].replace({\n",
    "    'Sports Car': 'Luxury',\n",
    "    'Luxury SUV': 'Luxury',\n",
    "    'Luxury Car': 'Luxury'\n",
    "})\n",
    "\n",
    "insurance_df['vehicule_class'].unique()"
   ]
  },
  {
   "cell_type": "markdown",
   "id": "85ff78ce-0174-4890-9db3-8048b7d7d2d0",
   "metadata": {
    "id": "85ff78ce-0174-4890-9db3-8048b7d7d2d0"
   },
   "source": [
    "## Exercise 3: Formatting data types"
   ]
  },
  {
   "cell_type": "markdown",
   "id": "b91c2cf8-79a2-4baf-9f65-ff2fb22270bd",
   "metadata": {
    "id": "b91c2cf8-79a2-4baf-9f65-ff2fb22270bd"
   },
   "source": [
    "The data types of many columns in the dataset appear to be incorrect. This could impact the accuracy of our analysis. To ensure accurate analysis, we need to correct the data types of these columns. Please update the data types of the columns as appropriate."
   ]
  },
  {
   "cell_type": "markdown",
   "id": "43e5d853-ff9e-43b2-9d92-aef2f78764f3",
   "metadata": {
    "id": "43e5d853-ff9e-43b2-9d92-aef2f78764f3"
   },
   "source": [
    "It is important to note that this exercise does not involve handling null values (NaN or None)."
   ]
  },
  {
   "cell_type": "markdown",
   "id": "329ca691-9196-4419-8969-3596746237a1",
   "metadata": {
    "id": "329ca691-9196-4419-8969-3596746237a1"
   },
   "source": [
    "*Hint*:\n",
    "- *Customer lifetime value should be numeric*\n",
    "- *Number of open complaints has an incorrect format. Look at the different values it takes with `unique()` and take the middle value. As an example, 1/5/00 should be 5. Number of open complaints is a string - remember you can use `split()` to deal with it and take the number you need. Finally, since it should be numeric, cast the column to be in its proper type.*"
   ]
  },
  {
   "cell_type": "code",
   "execution_count": 75,
   "id": "eb8f5991-73e9-405f-bf1c-6b7c589379a9",
   "metadata": {
    "id": "eb8f5991-73e9-405f-bf1c-6b7c589379a9"
   },
   "outputs": [
    {
     "data": {
      "text/plain": [
       "dtype('float64')"
      ]
     },
     "execution_count": 75,
     "metadata": {},
     "output_type": "execute_result"
    }
   ],
   "source": [
    "insurance_df['customer_lifetime_value'] = (\n",
    "    pd.to_numeric(insurance_df['customer_lifetime_value'])\n",
    ")\n",
    "\n",
    "insurance_df['customer_lifetime_value'].dtypes"
   ]
  },
  {
   "cell_type": "code",
   "execution_count": 107,
   "id": "c71c667d-07a5-47d5-a698-05fc7e4e1712",
   "metadata": {},
   "outputs": [
    {
     "data": {
      "text/plain": [
       "array([ 0.,  2.,  1.,  3.,  5.,  4., nan])"
      ]
     },
     "execution_count": 107,
     "metadata": {},
     "output_type": "execute_result"
    }
   ],
   "source": [
    "insurance_df['number_of_open_complaints'] = (\n",
    "    insurance_df['number_of_open_complaints']\n",
    "    .apply(lambda x: int(x.split('/')[1]) if isinstance(x, str) else x)\n",
    ")\n",
    "\n",
    "# Convert 'number_of_open_complaints' to numeric\n",
    "insurance_df['number_of_open_complaints'] = pd.to_numeric(insurance_df['number_of_open_complaints'])\n",
    "\n",
    "insurance_df['number_of_open_complaints'].unique()"
   ]
  },
  {
   "cell_type": "markdown",
   "id": "14c52e28-2d0c-4dd2-8bd5-3476e34fadc1",
   "metadata": {
    "id": "14c52e28-2d0c-4dd2-8bd5-3476e34fadc1"
   },
   "source": [
    "## Exercise 4: Dealing with Null values"
   ]
  },
  {
   "cell_type": "markdown",
   "id": "34b9a20f-7d32-4417-975e-1b4dfb0e16cd",
   "metadata": {
    "id": "34b9a20f-7d32-4417-975e-1b4dfb0e16cd"
   },
   "source": [
    "Identify any columns with null or missing values. Identify how many null values each column has. You can use the `isnull()` function in pandas to find columns with null values.\n",
    "\n",
    "Decide on a strategy for handling the null values. There are several options, including:\n",
    "\n",
    "- Drop the rows or columns with null values\n",
    "- Fill the null values with a specific value (such as the column mean or median for numerical variables, and mode for categorical variables)\n",
    "- Fill the null values with the previous or next value in the column\n",
    "- Fill the null values based on a more complex algorithm or model (note: we haven't covered this yet)\n",
    "\n",
    "Implement your chosen strategy to handle the null values. You can use the `fillna()` function in pandas to fill null values or `dropna()` function to drop null values.\n",
    "\n",
    "Verify that your strategy has successfully handled the null values. You can use the `isnull()` function again to check if there are still null values in the dataset.\n",
    "\n",
    "Remember to document your process and explain your reasoning for choosing a particular strategy for handling null values.\n",
    "\n",
    "After formatting data types, as a last step, convert all the numeric variables to integers."
   ]
  },
  {
   "cell_type": "code",
   "execution_count": 119,
   "id": "f184fc35-7831-4836-a0a5-e7f99e01b40e",
   "metadata": {
    "id": "f184fc35-7831-4836-a0a5-e7f99e01b40e"
   },
   "outputs": [
    {
     "name": "stdout",
     "output_type": "stream",
     "text": [
      "customer                     2937\n",
      "state                        2937\n",
      "gender                       3054\n",
      "education                    2937\n",
      "customer_lifetime_value      2940\n",
      "income                       2937\n",
      "monthly_premium_auto         2937\n",
      "number_of_open_complaints    2937\n",
      "policy_type                  2937\n",
      "vehicule_class               2937\n",
      "total_claim_amount           2937\n",
      "dtype: int64\n"
     ]
    }
   ],
   "source": [
    "null_values = insurance_df.isnull().sum()\n",
    "print(null_values)"
   ]
  },
  {
   "cell_type": "markdown",
   "id": "fc631176-c380-45e5-b253-c23a71349461",
   "metadata": {},
   "source": [
    "Strategy :\n",
    "- We will replace values in numeric columns with the median value.\n",
    "- We will replace values in categorical columns with the mode (most frequent value)."
   ]
  },
  {
   "cell_type": "code",
   "execution_count": 130,
   "id": "4f037870-241c-4ece-8ff7-a0d094707d41",
   "metadata": {},
   "outputs": [
    {
     "name": "stdout",
     "output_type": "stream",
     "text": [
      "customer                     0\n",
      "state                        0\n",
      "gender                       0\n",
      "education                    0\n",
      "customer_lifetime_value      0\n",
      "income                       0\n",
      "monthly_premium_auto         0\n",
      "number_of_open_complaints    0\n",
      "policy_type                  0\n",
      "vehicule_class               0\n",
      "total_claim_amount           0\n",
      "dtype: int64\n"
     ]
    }
   ],
   "source": [
    "numeric_columns = insurance_df.select_dtypes(include=['float64', 'int64']).columns\n",
    "for column in numeric_columns:\n",
    "    median_value = insurance_df[column].median()\n",
    "    insurance_df[column].fillna(median_value, inplace=True)\n",
    "\n",
    "categorical_columns = insurance_df.select_dtypes(include=['object']).columns\n",
    "for column in categorical_columns:\n",
    "    mode_value = insurance_df[column].mode()[0]\n",
    "    insurance_df[column].fillna(mode_value, inplace=True)\n",
    "\n",
    "new_null_values = insurance_df.isnull().sum()\n",
    "print(new_null_values)"
   ]
  },
  {
   "cell_type": "code",
   "execution_count": 136,
   "id": "b79c96e2-a39d-4111-9858-2a423d12775a",
   "metadata": {},
   "outputs": [
    {
     "data": {
      "text/plain": [
       "customer_lifetime_value      int64\n",
       "income                       int64\n",
       "monthly_premium_auto         int64\n",
       "number_of_open_complaints    int64\n",
       "total_claim_amount           int64\n",
       "dtype: object"
      ]
     },
     "execution_count": 136,
     "metadata": {},
     "output_type": "execute_result"
    }
   ],
   "source": [
    "insurance_df[numeric_columns] = insurance_df[numeric_columns].astype(int)\n",
    "insurance_df[numeric_columns].dtypes"
   ]
  },
  {
   "cell_type": "markdown",
   "id": "98416351-e999-4156-9834-9b00a311adfa",
   "metadata": {
    "id": "98416351-e999-4156-9834-9b00a311adfa"
   },
   "source": [
    "## Exercise 5: Dealing with duplicates"
   ]
  },
  {
   "cell_type": "markdown",
   "id": "ea0816a7-a18e-4d4c-b667-a8452a800bd1",
   "metadata": {
    "id": "ea0816a7-a18e-4d4c-b667-a8452a800bd1"
   },
   "source": [
    "Use the `.duplicated()` method to identify any duplicate rows in the dataframe.\n",
    "\n",
    "Decide on a strategy for handling the duplicates. Options include:\n",
    "- Dropping all duplicate rows\n",
    "- Keeping only the first occurrence of each duplicated row\n",
    "- Keeping only the last occurrence of each duplicated row\n",
    "- Dropping duplicates based on a subset of columns\n",
    "- Dropping duplicates based on a specific column\n",
    "\n",
    "Implement your chosen strategy using the `drop_duplicates()` function.\n",
    "\n",
    "Verify that your strategy has successfully handled the duplicates by checking for duplicates again using `.duplicated()`.\n",
    "\n",
    "Remember to document your process and explain your reasoning for choosing a particular strategy for handling duplicates.\n",
    "\n",
    "Save the cleaned dataset to a new CSV file.\n",
    "\n",
    "*Hint*: *after dropping duplicates, reset the index to ensure consistency*."
   ]
  },
  {
   "cell_type": "code",
   "execution_count": 171,
   "id": "1929362c-47ed-47cb-baca-358b78d401a0",
   "metadata": {
    "id": "1929362c-47ed-47cb-baca-358b78d401a0"
   },
   "outputs": [
    {
     "data": {
      "text/plain": [
       "0       False\n",
       "1       False\n",
       "2       False\n",
       "3       False\n",
       "4       False\n",
       "        ...  \n",
       "4003     True\n",
       "4004     True\n",
       "4005     True\n",
       "4006     True\n",
       "4007     True\n",
       "Length: 4008, dtype: bool"
      ]
     },
     "execution_count": 171,
     "metadata": {},
     "output_type": "execute_result"
    }
   ],
   "source": [
    "insurance_df.duplicated()"
   ]
  },
  {
   "cell_type": "code",
   "execution_count": 173,
   "id": "7c10ad71-2995-4a30-9ddd-2463702bc275",
   "metadata": {},
   "outputs": [
    {
     "data": {
      "text/plain": [
       "2936"
      ]
     },
     "execution_count": 173,
     "metadata": {},
     "output_type": "execute_result"
    }
   ],
   "source": [
    "insurance_df.duplicated().sum()"
   ]
  },
  {
   "cell_type": "markdown",
   "id": "2a661531-82ed-40a0-a0ab-b186444dbda0",
   "metadata": {},
   "source": [
    "We decide to remove all the duplicates."
   ]
  },
  {
   "cell_type": "code",
   "execution_count": 187,
   "id": "25b07f8f-64ec-4545-9852-876b1081b567",
   "metadata": {},
   "outputs": [
    {
     "data": {
      "text/html": [
       "<div>\n",
       "<style scoped>\n",
       "    .dataframe tbody tr th:only-of-type {\n",
       "        vertical-align: middle;\n",
       "    }\n",
       "\n",
       "    .dataframe tbody tr th {\n",
       "        vertical-align: top;\n",
       "    }\n",
       "\n",
       "    .dataframe thead th {\n",
       "        text-align: right;\n",
       "    }\n",
       "</style>\n",
       "<table border=\"1\" class=\"dataframe\">\n",
       "  <thead>\n",
       "    <tr style=\"text-align: right;\">\n",
       "      <th></th>\n",
       "      <th>customer</th>\n",
       "      <th>state</th>\n",
       "      <th>gender</th>\n",
       "      <th>education</th>\n",
       "      <th>customer_lifetime_value</th>\n",
       "      <th>income</th>\n",
       "      <th>monthly_premium_auto</th>\n",
       "      <th>number_of_open_complaints</th>\n",
       "      <th>policy_type</th>\n",
       "      <th>vehicule_class</th>\n",
       "      <th>total_claim_amount</th>\n",
       "    </tr>\n",
       "  </thead>\n",
       "  <tbody>\n",
       "    <tr>\n",
       "      <th>0</th>\n",
       "      <td>RB50392</td>\n",
       "      <td>Washington</td>\n",
       "      <td>F</td>\n",
       "      <td>Master</td>\n",
       "      <td>588174</td>\n",
       "      <td>0</td>\n",
       "      <td>1000</td>\n",
       "      <td>0</td>\n",
       "      <td>Personal Auto</td>\n",
       "      <td>Four-Door Car</td>\n",
       "      <td>2</td>\n",
       "    </tr>\n",
       "    <tr>\n",
       "      <th>1</th>\n",
       "      <td>QZ44356</td>\n",
       "      <td>Arizona</td>\n",
       "      <td>F</td>\n",
       "      <td>Bachelor</td>\n",
       "      <td>697953</td>\n",
       "      <td>0</td>\n",
       "      <td>94</td>\n",
       "      <td>0</td>\n",
       "      <td>Personal Auto</td>\n",
       "      <td>Four-Door Car</td>\n",
       "      <td>1131</td>\n",
       "    </tr>\n",
       "    <tr>\n",
       "      <th>2</th>\n",
       "      <td>AI49188</td>\n",
       "      <td>Nevada</td>\n",
       "      <td>F</td>\n",
       "      <td>Bachelor</td>\n",
       "      <td>1288743</td>\n",
       "      <td>48767</td>\n",
       "      <td>108</td>\n",
       "      <td>0</td>\n",
       "      <td>Personal Auto</td>\n",
       "      <td>Two-Door Car</td>\n",
       "      <td>566</td>\n",
       "    </tr>\n",
       "    <tr>\n",
       "      <th>3</th>\n",
       "      <td>WW63253</td>\n",
       "      <td>California</td>\n",
       "      <td>M</td>\n",
       "      <td>Bachelor</td>\n",
       "      <td>764586</td>\n",
       "      <td>0</td>\n",
       "      <td>106</td>\n",
       "      <td>0</td>\n",
       "      <td>Corporate Auto</td>\n",
       "      <td>SUV</td>\n",
       "      <td>529</td>\n",
       "    </tr>\n",
       "    <tr>\n",
       "      <th>4</th>\n",
       "      <td>GA49547</td>\n",
       "      <td>Washington</td>\n",
       "      <td>M</td>\n",
       "      <td>High School or Below</td>\n",
       "      <td>536307</td>\n",
       "      <td>36357</td>\n",
       "      <td>68</td>\n",
       "      <td>0</td>\n",
       "      <td>Personal Auto</td>\n",
       "      <td>Four-Door Car</td>\n",
       "      <td>17</td>\n",
       "    </tr>\n",
       "    <tr>\n",
       "      <th>...</th>\n",
       "      <td>...</td>\n",
       "      <td>...</td>\n",
       "      <td>...</td>\n",
       "      <td>...</td>\n",
       "      <td>...</td>\n",
       "      <td>...</td>\n",
       "      <td>...</td>\n",
       "      <td>...</td>\n",
       "      <td>...</td>\n",
       "      <td>...</td>\n",
       "      <td>...</td>\n",
       "    </tr>\n",
       "    <tr>\n",
       "      <th>1067</th>\n",
       "      <td>VJ51327</td>\n",
       "      <td>California</td>\n",
       "      <td>F</td>\n",
       "      <td>High School or Below</td>\n",
       "      <td>2031499</td>\n",
       "      <td>63209</td>\n",
       "      <td>102</td>\n",
       "      <td>2</td>\n",
       "      <td>Personal Auto</td>\n",
       "      <td>SUV</td>\n",
       "      <td>207</td>\n",
       "    </tr>\n",
       "    <tr>\n",
       "      <th>1068</th>\n",
       "      <td>GS98873</td>\n",
       "      <td>Arizona</td>\n",
       "      <td>F</td>\n",
       "      <td>Bachelor</td>\n",
       "      <td>323912</td>\n",
       "      <td>16061</td>\n",
       "      <td>88</td>\n",
       "      <td>0</td>\n",
       "      <td>Personal Auto</td>\n",
       "      <td>Four-Door Car</td>\n",
       "      <td>633</td>\n",
       "    </tr>\n",
       "    <tr>\n",
       "      <th>1069</th>\n",
       "      <td>CW49887</td>\n",
       "      <td>California</td>\n",
       "      <td>F</td>\n",
       "      <td>Master</td>\n",
       "      <td>462680</td>\n",
       "      <td>79487</td>\n",
       "      <td>114</td>\n",
       "      <td>0</td>\n",
       "      <td>Special Auto</td>\n",
       "      <td>SUV</td>\n",
       "      <td>547</td>\n",
       "    </tr>\n",
       "    <tr>\n",
       "      <th>1070</th>\n",
       "      <td>MY31220</td>\n",
       "      <td>California</td>\n",
       "      <td>F</td>\n",
       "      <td>College</td>\n",
       "      <td>899704</td>\n",
       "      <td>54230</td>\n",
       "      <td>112</td>\n",
       "      <td>0</td>\n",
       "      <td>Personal Auto</td>\n",
       "      <td>Two-Door Car</td>\n",
       "      <td>537</td>\n",
       "    </tr>\n",
       "    <tr>\n",
       "      <th>1071</th>\n",
       "      <td>AA71604</td>\n",
       "      <td>California</td>\n",
       "      <td>F</td>\n",
       "      <td>Bachelor</td>\n",
       "      <td>588174</td>\n",
       "      <td>36234</td>\n",
       "      <td>83</td>\n",
       "      <td>0</td>\n",
       "      <td>Personal Auto</td>\n",
       "      <td>Four-Door Car</td>\n",
       "      <td>354</td>\n",
       "    </tr>\n",
       "  </tbody>\n",
       "</table>\n",
       "<p>1072 rows × 11 columns</p>\n",
       "</div>"
      ],
      "text/plain": [
       "     customer       state gender             education  \\\n",
       "0     RB50392  Washington      F                Master   \n",
       "1     QZ44356     Arizona      F              Bachelor   \n",
       "2     AI49188      Nevada      F              Bachelor   \n",
       "3     WW63253  California      M              Bachelor   \n",
       "4     GA49547  Washington      M  High School or Below   \n",
       "...       ...         ...    ...                   ...   \n",
       "1067  VJ51327  California      F  High School or Below   \n",
       "1068  GS98873     Arizona      F              Bachelor   \n",
       "1069  CW49887  California      F                Master   \n",
       "1070  MY31220  California      F               College   \n",
       "1071  AA71604  California      F              Bachelor   \n",
       "\n",
       "      customer_lifetime_value  income  monthly_premium_auto  \\\n",
       "0                      588174       0                  1000   \n",
       "1                      697953       0                    94   \n",
       "2                     1288743   48767                   108   \n",
       "3                      764586       0                   106   \n",
       "4                      536307   36357                    68   \n",
       "...                       ...     ...                   ...   \n",
       "1067                  2031499   63209                   102   \n",
       "1068                   323912   16061                    88   \n",
       "1069                   462680   79487                   114   \n",
       "1070                   899704   54230                   112   \n",
       "1071                   588174   36234                    83   \n",
       "\n",
       "      number_of_open_complaints     policy_type vehicule_class  \\\n",
       "0                             0   Personal Auto  Four-Door Car   \n",
       "1                             0   Personal Auto  Four-Door Car   \n",
       "2                             0   Personal Auto   Two-Door Car   \n",
       "3                             0  Corporate Auto            SUV   \n",
       "4                             0   Personal Auto  Four-Door Car   \n",
       "...                         ...             ...            ...   \n",
       "1067                          2   Personal Auto            SUV   \n",
       "1068                          0   Personal Auto  Four-Door Car   \n",
       "1069                          0    Special Auto            SUV   \n",
       "1070                          0   Personal Auto   Two-Door Car   \n",
       "1071                          0   Personal Auto  Four-Door Car   \n",
       "\n",
       "      total_claim_amount  \n",
       "0                      2  \n",
       "1                   1131  \n",
       "2                    566  \n",
       "3                    529  \n",
       "4                     17  \n",
       "...                  ...  \n",
       "1067                 207  \n",
       "1068                 633  \n",
       "1069                 547  \n",
       "1070                 537  \n",
       "1071                 354  \n",
       "\n",
       "[1072 rows x 11 columns]"
      ]
     },
     "execution_count": 187,
     "metadata": {},
     "output_type": "execute_result"
    }
   ],
   "source": [
    "insurance_df = insurance_df.drop_duplicates(keep='first')\n",
    "insurance_df"
   ]
  },
  {
   "cell_type": "code",
   "execution_count": 189,
   "id": "5d45ef84-c3a7-4a2c-9552-10896bb2a12b",
   "metadata": {},
   "outputs": [
    {
     "data": {
      "text/plain": [
       "0"
      ]
     },
     "execution_count": 189,
     "metadata": {},
     "output_type": "execute_result"
    }
   ],
   "source": [
    "insurance_df.duplicated().sum()"
   ]
  },
  {
   "cell_type": "code",
   "execution_count": 191,
   "id": "4356713e-33f9-40e4-a22b-39d217f6df65",
   "metadata": {},
   "outputs": [
    {
     "data": {
      "text/html": [
       "<div>\n",
       "<style scoped>\n",
       "    .dataframe tbody tr th:only-of-type {\n",
       "        vertical-align: middle;\n",
       "    }\n",
       "\n",
       "    .dataframe tbody tr th {\n",
       "        vertical-align: top;\n",
       "    }\n",
       "\n",
       "    .dataframe thead th {\n",
       "        text-align: right;\n",
       "    }\n",
       "</style>\n",
       "<table border=\"1\" class=\"dataframe\">\n",
       "  <thead>\n",
       "    <tr style=\"text-align: right;\">\n",
       "      <th></th>\n",
       "      <th>customer</th>\n",
       "      <th>state</th>\n",
       "      <th>gender</th>\n",
       "      <th>education</th>\n",
       "      <th>customer_lifetime_value</th>\n",
       "      <th>income</th>\n",
       "      <th>monthly_premium_auto</th>\n",
       "      <th>number_of_open_complaints</th>\n",
       "      <th>policy_type</th>\n",
       "      <th>vehicule_class</th>\n",
       "      <th>total_claim_amount</th>\n",
       "    </tr>\n",
       "  </thead>\n",
       "  <tbody>\n",
       "    <tr>\n",
       "      <th>0</th>\n",
       "      <td>RB50392</td>\n",
       "      <td>Washington</td>\n",
       "      <td>F</td>\n",
       "      <td>Master</td>\n",
       "      <td>588174</td>\n",
       "      <td>0</td>\n",
       "      <td>1000</td>\n",
       "      <td>0</td>\n",
       "      <td>Personal Auto</td>\n",
       "      <td>Four-Door Car</td>\n",
       "      <td>2</td>\n",
       "    </tr>\n",
       "    <tr>\n",
       "      <th>1</th>\n",
       "      <td>QZ44356</td>\n",
       "      <td>Arizona</td>\n",
       "      <td>F</td>\n",
       "      <td>Bachelor</td>\n",
       "      <td>697953</td>\n",
       "      <td>0</td>\n",
       "      <td>94</td>\n",
       "      <td>0</td>\n",
       "      <td>Personal Auto</td>\n",
       "      <td>Four-Door Car</td>\n",
       "      <td>1131</td>\n",
       "    </tr>\n",
       "    <tr>\n",
       "      <th>2</th>\n",
       "      <td>AI49188</td>\n",
       "      <td>Nevada</td>\n",
       "      <td>F</td>\n",
       "      <td>Bachelor</td>\n",
       "      <td>1288743</td>\n",
       "      <td>48767</td>\n",
       "      <td>108</td>\n",
       "      <td>0</td>\n",
       "      <td>Personal Auto</td>\n",
       "      <td>Two-Door Car</td>\n",
       "      <td>566</td>\n",
       "    </tr>\n",
       "    <tr>\n",
       "      <th>3</th>\n",
       "      <td>WW63253</td>\n",
       "      <td>California</td>\n",
       "      <td>M</td>\n",
       "      <td>Bachelor</td>\n",
       "      <td>764586</td>\n",
       "      <td>0</td>\n",
       "      <td>106</td>\n",
       "      <td>0</td>\n",
       "      <td>Corporate Auto</td>\n",
       "      <td>SUV</td>\n",
       "      <td>529</td>\n",
       "    </tr>\n",
       "    <tr>\n",
       "      <th>4</th>\n",
       "      <td>GA49547</td>\n",
       "      <td>Washington</td>\n",
       "      <td>M</td>\n",
       "      <td>High School or Below</td>\n",
       "      <td>536307</td>\n",
       "      <td>36357</td>\n",
       "      <td>68</td>\n",
       "      <td>0</td>\n",
       "      <td>Personal Auto</td>\n",
       "      <td>Four-Door Car</td>\n",
       "      <td>17</td>\n",
       "    </tr>\n",
       "    <tr>\n",
       "      <th>...</th>\n",
       "      <td>...</td>\n",
       "      <td>...</td>\n",
       "      <td>...</td>\n",
       "      <td>...</td>\n",
       "      <td>...</td>\n",
       "      <td>...</td>\n",
       "      <td>...</td>\n",
       "      <td>...</td>\n",
       "      <td>...</td>\n",
       "      <td>...</td>\n",
       "      <td>...</td>\n",
       "    </tr>\n",
       "    <tr>\n",
       "      <th>1067</th>\n",
       "      <td>VJ51327</td>\n",
       "      <td>California</td>\n",
       "      <td>F</td>\n",
       "      <td>High School or Below</td>\n",
       "      <td>2031499</td>\n",
       "      <td>63209</td>\n",
       "      <td>102</td>\n",
       "      <td>2</td>\n",
       "      <td>Personal Auto</td>\n",
       "      <td>SUV</td>\n",
       "      <td>207</td>\n",
       "    </tr>\n",
       "    <tr>\n",
       "      <th>1068</th>\n",
       "      <td>GS98873</td>\n",
       "      <td>Arizona</td>\n",
       "      <td>F</td>\n",
       "      <td>Bachelor</td>\n",
       "      <td>323912</td>\n",
       "      <td>16061</td>\n",
       "      <td>88</td>\n",
       "      <td>0</td>\n",
       "      <td>Personal Auto</td>\n",
       "      <td>Four-Door Car</td>\n",
       "      <td>633</td>\n",
       "    </tr>\n",
       "    <tr>\n",
       "      <th>1069</th>\n",
       "      <td>CW49887</td>\n",
       "      <td>California</td>\n",
       "      <td>F</td>\n",
       "      <td>Master</td>\n",
       "      <td>462680</td>\n",
       "      <td>79487</td>\n",
       "      <td>114</td>\n",
       "      <td>0</td>\n",
       "      <td>Special Auto</td>\n",
       "      <td>SUV</td>\n",
       "      <td>547</td>\n",
       "    </tr>\n",
       "    <tr>\n",
       "      <th>1070</th>\n",
       "      <td>MY31220</td>\n",
       "      <td>California</td>\n",
       "      <td>F</td>\n",
       "      <td>College</td>\n",
       "      <td>899704</td>\n",
       "      <td>54230</td>\n",
       "      <td>112</td>\n",
       "      <td>0</td>\n",
       "      <td>Personal Auto</td>\n",
       "      <td>Two-Door Car</td>\n",
       "      <td>537</td>\n",
       "    </tr>\n",
       "    <tr>\n",
       "      <th>1071</th>\n",
       "      <td>AA71604</td>\n",
       "      <td>California</td>\n",
       "      <td>F</td>\n",
       "      <td>Bachelor</td>\n",
       "      <td>588174</td>\n",
       "      <td>36234</td>\n",
       "      <td>83</td>\n",
       "      <td>0</td>\n",
       "      <td>Personal Auto</td>\n",
       "      <td>Four-Door Car</td>\n",
       "      <td>354</td>\n",
       "    </tr>\n",
       "  </tbody>\n",
       "</table>\n",
       "<p>1072 rows × 11 columns</p>\n",
       "</div>"
      ],
      "text/plain": [
       "     customer       state gender             education  \\\n",
       "0     RB50392  Washington      F                Master   \n",
       "1     QZ44356     Arizona      F              Bachelor   \n",
       "2     AI49188      Nevada      F              Bachelor   \n",
       "3     WW63253  California      M              Bachelor   \n",
       "4     GA49547  Washington      M  High School or Below   \n",
       "...       ...         ...    ...                   ...   \n",
       "1067  VJ51327  California      F  High School or Below   \n",
       "1068  GS98873     Arizona      F              Bachelor   \n",
       "1069  CW49887  California      F                Master   \n",
       "1070  MY31220  California      F               College   \n",
       "1071  AA71604  California      F              Bachelor   \n",
       "\n",
       "      customer_lifetime_value  income  monthly_premium_auto  \\\n",
       "0                      588174       0                  1000   \n",
       "1                      697953       0                    94   \n",
       "2                     1288743   48767                   108   \n",
       "3                      764586       0                   106   \n",
       "4                      536307   36357                    68   \n",
       "...                       ...     ...                   ...   \n",
       "1067                  2031499   63209                   102   \n",
       "1068                   323912   16061                    88   \n",
       "1069                   462680   79487                   114   \n",
       "1070                   899704   54230                   112   \n",
       "1071                   588174   36234                    83   \n",
       "\n",
       "      number_of_open_complaints     policy_type vehicule_class  \\\n",
       "0                             0   Personal Auto  Four-Door Car   \n",
       "1                             0   Personal Auto  Four-Door Car   \n",
       "2                             0   Personal Auto   Two-Door Car   \n",
       "3                             0  Corporate Auto            SUV   \n",
       "4                             0   Personal Auto  Four-Door Car   \n",
       "...                         ...             ...            ...   \n",
       "1067                          2   Personal Auto            SUV   \n",
       "1068                          0   Personal Auto  Four-Door Car   \n",
       "1069                          0    Special Auto            SUV   \n",
       "1070                          0   Personal Auto   Two-Door Car   \n",
       "1071                          0   Personal Auto  Four-Door Car   \n",
       "\n",
       "      total_claim_amount  \n",
       "0                      2  \n",
       "1                   1131  \n",
       "2                    566  \n",
       "3                    529  \n",
       "4                     17  \n",
       "...                  ...  \n",
       "1067                 207  \n",
       "1068                 633  \n",
       "1069                 547  \n",
       "1070                 537  \n",
       "1071                 354  \n",
       "\n",
       "[1072 rows x 11 columns]"
      ]
     },
     "execution_count": 191,
     "metadata": {},
     "output_type": "execute_result"
    }
   ],
   "source": [
    "insurance_df.reset_index(drop=True, inplace=True)\n",
    "insurance_df"
   ]
  },
  {
   "cell_type": "code",
   "execution_count": 211,
   "id": "345e18b2-a0ee-4832-9c78-773c178df11a",
   "metadata": {},
   "outputs": [],
   "source": [
    "insurance_cleaned_file = \"/Users/mailysjaffret/Desktop/IRONHACK/LAB/lab-dw-data-cleaning-and-formatting/insurance_cleaned_dataset.csv\"\n",
    "\n",
    "insurance_df.to_csv(insurance_cleaned_file, index=False)"
   ]
  },
  {
   "cell_type": "markdown",
   "id": "60840701-4783-40e2-b4d8-55303f9100c9",
   "metadata": {
    "id": "60840701-4783-40e2-b4d8-55303f9100c9"
   },
   "source": [
    "# Bonus: Challenge 2: creating functions on a separate `py` file"
   ]
  },
  {
   "cell_type": "markdown",
   "id": "9d1adb3a-17cf-4899-8041-da21a4337fb4",
   "metadata": {
    "id": "9d1adb3a-17cf-4899-8041-da21a4337fb4"
   },
   "source": [
    "Put all the data cleaning and formatting steps into functions, and create a main function that performs all the cleaning and formatting.\n",
    "\n",
    "Write these functions in separate .py file(s). By putting these steps into functions, we can make the code more modular and easier to maintain."
   ]
  },
  {
   "cell_type": "markdown",
   "id": "0e170dc2-b62c-417a-8248-e63ed18a70c4",
   "metadata": {
    "id": "0e170dc2-b62c-417a-8248-e63ed18a70c4"
   },
   "source": [
    "*Hint: autoreload module is a utility module in Python that allows you to automatically reload modules in the current session when changes are made to the source code. This can be useful in situations where you are actively developing code and want to see the effects of changes you make without having to constantly restart the Python interpreter or Jupyter Notebook kernel.*"
   ]
  },
  {
   "cell_type": "code",
   "execution_count": null,
   "id": "a52c6dfc-cd11-4d01-bda4-f719fa33e9a4",
   "metadata": {
    "id": "a52c6dfc-cd11-4d01-bda4-f719fa33e9a4"
   },
   "outputs": [],
   "source": [
    "# Your code here"
   ]
  },
  {
   "cell_type": "markdown",
   "id": "80f846bb-3f5e-4ca2-96c0-900728daca5a",
   "metadata": {
    "id": "80f846bb-3f5e-4ca2-96c0-900728daca5a",
    "tags": []
   },
   "source": [
    "# Bonus: Challenge 3: Analyzing Clean and Formated Data"
   ]
  },
  {
   "cell_type": "markdown",
   "id": "9021630e-cc90-446c-b5bd-264d6c864207",
   "metadata": {
    "id": "9021630e-cc90-446c-b5bd-264d6c864207"
   },
   "source": [
    "You have been tasked with analyzing the data to identify potential areas for improving customer retention and profitability. Your goal is to identify customers with a high policy claim amount and a low customer lifetime value.\n",
    "\n",
    "In the Pandas Lab, we only looked at high policy claim amounts because we couldn't look into low customer lifetime values. If we had tried to work with that column, we wouldn't have been able to because customer lifetime value wasn't clean and in its proper format. So after cleaning and formatting the data, let's get some more interesting insights!\n",
    "\n",
    "Instructions:\n",
    "\n",
    "- Review the statistics again for total claim amount and customer lifetime value to gain an understanding of the data.\n",
    "- To identify potential areas for improving customer retention and profitability, we want to focus on customers with a high policy claim amount and a low customer lifetime value. Consider customers with a high policy claim amount to be those in the top 25% of the total claim amount, and clients with a low customer lifetime value to be those in the bottom 25% of the customer lifetime value. Create a pandas DataFrame object that contains information about customers with a policy claim amount greater than the 75th percentile and a customer lifetime value in the bottom 25th percentile.\n",
    "- Use DataFrame methods to calculate summary statistics about the high policy claim amount and low customer lifetime value data. To do so, select both columns of the dataframe simultaneously and pass it to the `.describe()` method. This will give you descriptive statistics, such as mean, median, standard deviation, minimum and maximum values for both columns at the same time, allowing you to compare and analyze their characteristics."
   ]
  },
  {
   "cell_type": "code",
   "execution_count": null,
   "id": "211e82b5-461a-4d6f-8a23-4deccb84173c",
   "metadata": {
    "id": "211e82b5-461a-4d6f-8a23-4deccb84173c"
   },
   "outputs": [],
   "source": [
    "# Your code here"
   ]
  }
 ],
 "metadata": {
  "colab": {
   "provenance": []
  },
  "kernelspec": {
   "display_name": "Python 3 (ipykernel)",
   "language": "python",
   "name": "python3"
  },
  "language_info": {
   "codemirror_mode": {
    "name": "ipython",
    "version": 3
   },
   "file_extension": ".py",
   "mimetype": "text/x-python",
   "name": "python",
   "nbconvert_exporter": "python",
   "pygments_lexer": "ipython3",
   "version": "3.11.5"
  }
 },
 "nbformat": 4,
 "nbformat_minor": 5
}
