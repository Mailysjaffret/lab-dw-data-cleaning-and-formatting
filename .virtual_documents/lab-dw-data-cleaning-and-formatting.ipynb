














import pandas as pd
insurance_df = pd.read_csv("https://raw.githubusercontent.com/data-bootcamp-v4/data/main/file1.csv")
insurance_df.columns


insurance_df.columns = (
    insurance_df.columns
    .str.lower()
    .str.replace(' ', '_')
    .str.replace('st', 'state')
)

print(insurance_df.columns)


insurance_df.columns = (
    insurance_df.columns
    .str.replace('custateomer', 'customer')
    .str.replace('custateomer_lifetime_value', 'customer_lifetime_value')
    .str.replace('vehicle_class', 'vehicule_class')
)

insurance_df.columns








insurance_df['gender'] = insurance_df['gender'].str.strip().str.lower().replace({
    'femal': 'female',
    'female': 'F',
    'f': 'F',
    'male': 'M',
    'm': 'M'
})

insurance_df['gender'].unique()


insurance_df['state'] = insurance_df['state'].replace({
    'AZ': 'Arizona',
    'Cali': 'California',
    'WA': 'Washington'
})

insurance_df['state'].unique()


insurance_df['education'] = insurance_df['education'].str.strip().replace({
    'Bachelors': 'Bachelor'
})

insurance_df['education'].unique()


insurance_df['customer_lifetime_value'] = (
    insurance_df['customer_lifetime_value']
    .astype(str)
    .str.replace('%', '')
    .astype(float)
)

insurance_df['customer_lifetime_value'].unique()


insurance_df['vehicule_class'] = insurance_df['vehicule_class'].replace({
    'Sports Car': 'Luxury',
    'Luxury SUV': 'Luxury',
    'Luxury Car': 'Luxury'
})

insurance_df['vehicule_class'].unique()














insurance_df['customer_lifetime_value'] = (
    pd.to_numeric(insurance_df['customer_lifetime_value'])
)

insurance_df['customer_lifetime_value'].dtypes


insurance_df['number_of_open_complaints'] = (
    insurance_df['number_of_open_complaints']
    .apply(lambda x: int(x.split('/')[1]) if isinstance(x, str) else x)
)

# Convert 'number_of_open_complaints' to numeric
insurance_df['number_of_open_complaints'] = pd.to_numeric(insurance_df['number_of_open_complaints'])

insurance_df['number_of_open_complaints'].unique()








null_values = insurance_df.isnull().sum()
print(null_values)





numeric_columns = insurance_df.select_dtypes(include=['float64', 'int64']).columns
for column in numeric_columns:
    median_value = insurance_df[column].median()
    insurance_df[column].fillna(median_value, inplace=True)

categorical_columns = insurance_df.select_dtypes(include=['object']).columns
for column in categorical_columns:
    mode_value = insurance_df[column].mode()[0]
    insurance_df[column].fillna(mode_value, inplace=True)

new_null_values = insurance_df.isnull().sum()
print(new_null_values)


insurance_df[numeric_columns] = insurance_df[numeric_columns].astype(int)
insurance_df[numeric_columns].dtypes








insurance_df.duplicated()


insurance_df.duplicated().sum()





insurance_df = insurance_df.drop_duplicates(keep='first')
insurance_df


insurance_df.duplicated().sum()


insurance_df.reset_index(drop=True, inplace=True)
insurance_df


insurance_cleaned_file = "/Users/mailysjaffret/Desktop/IRONHACK/LAB/lab-dw-data-cleaning-and-formatting/insurance_cleaned_dataset.csv"

insurance_df.to_csv(insurance_cleaned_file, index=False)











# Your code here








# Your code here
